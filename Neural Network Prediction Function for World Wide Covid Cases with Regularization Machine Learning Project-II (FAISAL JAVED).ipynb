{
 "cells": [
  {
   "cell_type": "markdown",
   "metadata": {},
   "source": [
    "# ANNEX: C\n",
    "# PREDICTION CODE FOR WORLD WIDE COVID 19 CASES USING NEURAL NETWORKS\n",
    "## SUBMITTED BY: FAISAL JAVED\n",
    "### MACHINE LEARNING PROJECT_2 (MS RIME 2020)"
   ]
  },
  {
   "cell_type": "code",
   "execution_count": 1,
   "metadata": {},
   "outputs": [],
   "source": [
    "import pandas as pd\n",
    "import numpy as np\n",
    "import matplotlib.pyplot as plt"
   ]
  },
  {
   "cell_type": "markdown",
   "metadata": {},
   "source": [
    "## DATA SET DETAILS \n",
    "### GATHERING & CLEANING"
   ]
  },
  {
   "cell_type": "code",
   "execution_count": 2,
   "metadata": {},
   "outputs": [
    {
     "data": {
      "text/html": [
       "<div>\n",
       "<style scoped>\n",
       "    .dataframe tbody tr th:only-of-type {\n",
       "        vertical-align: middle;\n",
       "    }\n",
       "\n",
       "    .dataframe tbody tr th {\n",
       "        vertical-align: top;\n",
       "    }\n",
       "\n",
       "    .dataframe thead th {\n",
       "        text-align: right;\n",
       "    }\n",
       "</style>\n",
       "<table border=\"1\" class=\"dataframe\">\n",
       "  <thead>\n",
       "    <tr style=\"text-align: right;\">\n",
       "      <th></th>\n",
       "      <th>CONTINENT</th>\n",
       "      <th>LOCATION</th>\n",
       "      <th>DATE</th>\n",
       "      <th>COUNTRY_SERIES</th>\n",
       "      <th>DATE_CODE</th>\n",
       "      <th>COUNTRY_CODE</th>\n",
       "      <th>POPULATION DENSITY</th>\n",
       "      <th>HUMAN_DEVELOPMENT_INDEX</th>\n",
       "      <th>TEMPERATURES</th>\n",
       "      <th>CASES</th>\n",
       "    </tr>\n",
       "  </thead>\n",
       "  <tbody>\n",
       "    <tr>\n",
       "      <th>0</th>\n",
       "      <td>Asia</td>\n",
       "      <td>Afghanistan</td>\n",
       "      <td>2020-01-23</td>\n",
       "      <td>0</td>\n",
       "      <td>0</td>\n",
       "      <td>0</td>\n",
       "      <td>54.422</td>\n",
       "      <td>0.498</td>\n",
       "      <td>7.0</td>\n",
       "      <td>0</td>\n",
       "    </tr>\n",
       "    <tr>\n",
       "      <th>1</th>\n",
       "      <td>Asia</td>\n",
       "      <td>Afghanistan</td>\n",
       "      <td>2020-01-24</td>\n",
       "      <td>1</td>\n",
       "      <td>1</td>\n",
       "      <td>0</td>\n",
       "      <td>54.422</td>\n",
       "      <td>0.498</td>\n",
       "      <td>7.0</td>\n",
       "      <td>0</td>\n",
       "    </tr>\n",
       "    <tr>\n",
       "      <th>2</th>\n",
       "      <td>Asia</td>\n",
       "      <td>Afghanistan</td>\n",
       "      <td>2020-01-25</td>\n",
       "      <td>2</td>\n",
       "      <td>2</td>\n",
       "      <td>0</td>\n",
       "      <td>54.422</td>\n",
       "      <td>0.498</td>\n",
       "      <td>13.0</td>\n",
       "      <td>0</td>\n",
       "    </tr>\n",
       "    <tr>\n",
       "      <th>3</th>\n",
       "      <td>Asia</td>\n",
       "      <td>Afghanistan</td>\n",
       "      <td>2020-01-26</td>\n",
       "      <td>3</td>\n",
       "      <td>3</td>\n",
       "      <td>0</td>\n",
       "      <td>54.422</td>\n",
       "      <td>0.498</td>\n",
       "      <td>2.0</td>\n",
       "      <td>0</td>\n",
       "    </tr>\n",
       "    <tr>\n",
       "      <th>4</th>\n",
       "      <td>Asia</td>\n",
       "      <td>Afghanistan</td>\n",
       "      <td>2020-01-27</td>\n",
       "      <td>4</td>\n",
       "      <td>4</td>\n",
       "      <td>0</td>\n",
       "      <td>54.422</td>\n",
       "      <td>0.498</td>\n",
       "      <td>6.0</td>\n",
       "      <td>0</td>\n",
       "    </tr>\n",
       "  </tbody>\n",
       "</table>\n",
       "</div>"
      ],
      "text/plain": [
       "  CONTINENT     LOCATION       DATE  COUNTRY_SERIES  DATE_CODE  COUNTRY_CODE  \\\n",
       "0      Asia  Afghanistan 2020-01-23               0          0             0   \n",
       "1      Asia  Afghanistan 2020-01-24               1          1             0   \n",
       "2      Asia  Afghanistan 2020-01-25               2          2             0   \n",
       "3      Asia  Afghanistan 2020-01-26               3          3             0   \n",
       "4      Asia  Afghanistan 2020-01-27               4          4             0   \n",
       "\n",
       "   POPULATION DENSITY  HUMAN_DEVELOPMENT_INDEX  TEMPERATURES  CASES  \n",
       "0              54.422                    0.498           7.0      0  \n",
       "1              54.422                    0.498           7.0      0  \n",
       "2              54.422                    0.498          13.0      0  \n",
       "3              54.422                    0.498           2.0      0  \n",
       "4              54.422                    0.498           6.0      0  "
      ]
     },
     "execution_count": 2,
     "metadata": {},
     "output_type": "execute_result"
    }
   ],
   "source": [
    "Data = pd.read_excel(\"Country wise Covid Data.xlsx\")\n",
    "Data.head()"
   ]
  },
  {
   "cell_type": "code",
   "execution_count": 3,
   "metadata": {},
   "outputs": [],
   "source": [
    "X = Data.drop(['LOCATION','CONTINENT','DATE','COUNTRY_SERIES','CASES',],1)"
   ]
  },
  {
   "cell_type": "markdown",
   "metadata": {},
   "source": [
    "### SCALING OF DATA"
   ]
  },
  {
   "cell_type": "code",
   "execution_count": 4,
   "metadata": {},
   "outputs": [],
   "source": [
    "x = X/(X.max(axis=0) + np.spacing(0))"
   ]
  },
  {
   "cell_type": "code",
   "execution_count": 5,
   "metadata": {},
   "outputs": [
    {
     "data": {
      "text/plain": [
       "(54720, 5)"
      ]
     },
     "execution_count": 5,
     "metadata": {},
     "output_type": "execute_result"
    }
   ],
   "source": [
    "x.shape"
   ]
  },
  {
   "cell_type": "markdown",
   "metadata": {},
   "source": [
    "### SPLITTING OF DATA SET INTO TRAIN,TEST & VALID DATA"
   ]
  },
  {
   "cell_type": "code",
   "execution_count": 6,
   "metadata": {},
   "outputs": [],
   "source": [
    "data_train = round(0.6*len(Data))\n",
    "data_valid = round(data_train+0.2*len(Data))"
   ]
  },
  {
   "cell_type": "code",
   "execution_count": 7,
   "metadata": {},
   "outputs": [],
   "source": [
    "train_x = x[:data_train]\n",
    "valid_x = x[data_train:data_valid]\n",
    "test_x = x[data_valid:]"
   ]
  },
  {
   "cell_type": "code",
   "execution_count": 8,
   "metadata": {},
   "outputs": [
    {
     "data": {
      "text/plain": [
       "(5, 32832)"
      ]
     },
     "execution_count": 8,
     "metadata": {},
     "output_type": "execute_result"
    }
   ],
   "source": [
    "train_x = train_x.T\n",
    "train_x.shape"
   ]
  },
  {
   "cell_type": "code",
   "execution_count": 9,
   "metadata": {},
   "outputs": [
    {
     "data": {
      "text/plain": [
       "(5, 10944)"
      ]
     },
     "execution_count": 9,
     "metadata": {},
     "output_type": "execute_result"
    }
   ],
   "source": [
    "valid_x = valid_x.T\n",
    "valid_x.shape"
   ]
  },
  {
   "cell_type": "code",
   "execution_count": 10,
   "metadata": {},
   "outputs": [
    {
     "data": {
      "text/plain": [
       "(5, 10944)"
      ]
     },
     "execution_count": 10,
     "metadata": {},
     "output_type": "execute_result"
    }
   ],
   "source": [
    "test_x = test_x.T\n",
    "test_x.shape"
   ]
  },
  {
   "cell_type": "code",
   "execution_count": 11,
   "metadata": {},
   "outputs": [],
   "source": [
    "Y = Data['CASES']"
   ]
  },
  {
   "cell_type": "code",
   "execution_count": 12,
   "metadata": {},
   "outputs": [],
   "source": [
    "train_y = Y[:data_train]\n",
    "valid_y = Y[data_train:data_valid]\n",
    "test_y = Y[data_valid:]"
   ]
  },
  {
   "cell_type": "code",
   "execution_count": 13,
   "metadata": {},
   "outputs": [
    {
     "data": {
      "text/plain": [
       "(1, 32832)"
      ]
     },
     "execution_count": 13,
     "metadata": {},
     "output_type": "execute_result"
    }
   ],
   "source": [
    "train_y = train_y.values.reshape(1,train_x.shape[1]) #Reshaping of y coloumn for ease of mathematical multiplication\n",
    "train_y.shape"
   ]
  },
  {
   "cell_type": "code",
   "execution_count": 14,
   "metadata": {},
   "outputs": [
    {
     "data": {
      "text/plain": [
       "(1, 10944)"
      ]
     },
     "execution_count": 14,
     "metadata": {},
     "output_type": "execute_result"
    }
   ],
   "source": [
    "valid_y = valid_y.values.reshape(1,valid_x.shape[1])\n",
    "valid_y.shape"
   ]
  },
  {
   "cell_type": "code",
   "execution_count": 15,
   "metadata": {},
   "outputs": [
    {
     "data": {
      "text/plain": [
       "(1, 10944)"
      ]
     },
     "execution_count": 15,
     "metadata": {},
     "output_type": "execute_result"
    }
   ],
   "source": [
    "test_y = test_y.values.reshape(1,test_x.shape[1])\n",
    "test_y.shape"
   ]
  },
  {
   "cell_type": "markdown",
   "metadata": {},
   "source": [
    "### USING PARAMETERS FROM TRAINING MODEL:"
   ]
  },
  {
   "cell_type": "code",
   "execution_count": 16,
   "metadata": {},
   "outputs": [],
   "source": [
    "W1 = ([[ 1.60009497e-01,  6.64696399e-02, -1.87843408e-02,\n",
    "          1.92059372e-01,  8.50051032e-02],\n",
    "        [ 1.79051089e-01,  8.15501787e-02, -9.54603303e-03,\n",
    "          1.90076889e-01,  1.08413310e-01],\n",
    "        [ 2.45909671e-01,  1.21017207e-01,  4.09381460e-03,\n",
    "          2.46173818e-01,  1.56047367e-01],\n",
    "        [ 1.92671388e-01,  8.09103437e-02,  1.47542975e-02,\n",
    "          2.05131550e-01,  1.24572721e-01],\n",
    "        [ 3.77152459e-01,  1.56015684e-01,  8.46457882e-03,\n",
    "          4.03191377e-01,  2.38485021e-01],\n",
    "        [ 2.72916668e-01,  1.06041871e-01, -7.62673412e-03,\n",
    "          2.80461122e-01,  1.70991527e-01],\n",
    "        [ 3.40457446e-01,  1.62356566e-01, -1.90216094e-02,\n",
    "          3.68395678e-01,  2.18749441e-01],\n",
    "        [ 2.71725587e-01,  1.10420488e-01, -4.46493288e-03,\n",
    "          2.76329449e-01,  1.67212353e-01],\n",
    "        [ 1.80409720e-01,  8.26270920e-02, -1.58149504e-02,\n",
    "          2.13700976e-01,  1.29658121e-01],\n",
    "        [ 2.57873679e-01,  1.12757215e-01,  4.47646278e-03,\n",
    "          2.71325225e-01,  1.64590388e-01],\n",
    "        [ 2.36977283e-01,  8.88917985e-02, -2.70769739e-04,\n",
    "          2.42227006e-01,  1.46593321e-01],\n",
    "        [ 1.56500799e-01,  5.23707978e-02,  7.26880131e-03,\n",
    "          1.56019421e-01,  7.15663003e-02],\n",
    "        [ 2.24646949e-01,  9.21155756e-02,  3.10786887e-03,\n",
    "          2.48170903e-01,  1.23071607e-01],\n",
    "        [ 3.31360256e-01,  1.28359023e-01, -9.28588859e-03,\n",
    "          3.59400923e-01,  2.14718667e-01],\n",
    "        [ 9.80294986e-02,  5.10837139e-02, -2.20348907e-03,\n",
    "          1.12552447e-01,  5.45620890e-02],\n",
    "        [ 4.63643132e-02, -1.40325359e-02, -4.43886820e-04,\n",
    "          3.96465646e-02, -1.11567976e-03]]),\n",
    "b1 = ([[0.22113418],\n",
    "        [0.25249478],\n",
    "        [0.32384776],\n",
    "        [0.2675531 ],\n",
    "        [0.51984282],\n",
    "        [0.37080625],\n",
    "        [0.46222872],\n",
    "        [0.3477738 ],\n",
    "        [0.24723096],\n",
    "        [0.3518793 ],\n",
    "        [0.30578872],\n",
    "        [0.19364596],\n",
    "        [0.30824388],\n",
    "        [0.44574575],\n",
    "        [0.14081686],\n",
    "        [0.04117506]]),\n",
    "W2 = ([[6.6926798 , 6.63222412, 6.71617695, 6.67436171, 6.63465438,\n",
    "         6.62550006, 6.72990606, 6.75295247, 6.75615622, 6.67355648,\n",
    "         6.72270562, 6.70016278, 6.66000409, 6.7285955 , 6.64880976,\n",
    "         6.70208951],\n",
    "        [6.67142225, 6.60413812, 6.69266318, 6.61175077, 6.6235492 ,\n",
    "         6.61643673, 6.67795337, 6.7180069 , 6.73052658, 6.66899399,\n",
    "         6.710162  , 6.67197387, 6.6240078 , 6.68174036, 6.63606893,\n",
    "         6.65920263],\n",
    "        [6.60132975, 6.54363332, 6.62078983, 6.57293333, 6.54817664,\n",
    "         6.54649453, 6.65718559, 6.64129921, 6.66550282, 6.59043431,\n",
    "         6.63112359, 6.61450013, 6.58215316, 6.64266517, 6.58974653,\n",
    "         6.59759855],\n",
    "        [6.53439857, 6.44574653, 6.5352468 , 6.48656654, 6.45831093,\n",
    "         6.47538989, 6.54266786, 6.57857322, 6.57306441, 6.50789792,\n",
    "         6.55201732, 6.5245553 , 6.47353499, 6.54032921, 6.48021383,\n",
    "         6.49979911],\n",
    "        [6.7903774 , 6.70520511, 6.78906782, 6.7204564 , 6.70821216,\n",
    "         6.70884975, 6.78559175, 6.80440266, 6.82222574, 6.71230993,\n",
    "         6.78832889, 6.76185502, 6.73188432, 6.77514821, 6.74634102,\n",
    "         6.75034199],\n",
    "        [6.68223629, 6.64252995, 6.7034723 , 6.64959885, 6.64011127,\n",
    "         6.64702947, 6.71886895, 6.74595983, 6.80191206, 6.67843041,\n",
    "         6.73435813, 6.67490595, 6.66179347, 6.72247959, 6.66268354,\n",
    "         6.68316719],\n",
    "        [6.70693731, 6.63819559, 6.71046835, 6.68175363, 6.66034205,\n",
    "         6.65066668, 6.72019008, 6.75441343, 6.77753076, 6.68473058,\n",
    "         6.71285608, 6.69956341, 6.66991874, 6.72921666, 6.68409434,\n",
    "         6.70768624],\n",
    "        [6.63984103, 6.58292208, 6.65227332, 6.63670404, 6.59742496,\n",
    "         6.6017585 , 6.68301559, 6.69381433, 6.70544011, 6.62254746,\n",
    "         6.67384694, 6.66606885, 6.62345772, 6.66018817, 6.62952284,\n",
    "         6.65564086],\n",
    "        [6.52852605, 6.47787954, 6.53373211, 6.51050031, 6.48136581,\n",
    "         6.47166365, 6.55334663, 6.5866617 , 6.59824823, 6.51814883,\n",
    "         6.56837713, 6.53067463, 6.50023991, 6.58001904, 6.51254531,\n",
    "         6.5278709 ],\n",
    "        [6.62193113, 6.54708246, 6.64586237, 6.59272985, 6.57687888,\n",
    "         6.57566278, 6.64668965, 6.67679229, 6.68870872, 6.59048549,\n",
    "         6.63519003, 6.61681083, 6.56015141, 6.65931981, 6.57611757,\n",
    "         6.61774161],\n",
    "        [6.53950307, 6.47217515, 6.56492164, 6.51764371, 6.49634411,\n",
    "         6.50401792, 6.56772051, 6.6016776 , 6.62254614, 6.52531012,\n",
    "         6.5736269 , 6.55795673, 6.51738547, 6.57380448, 6.501137  ,\n",
    "         6.55042755],\n",
    "        [6.50084529, 6.43598041, 6.51342689, 6.48437492, 6.44369629,\n",
    "         6.45008496, 6.50967902, 6.53346214, 6.55654245, 6.4631329 ,\n",
    "         6.52061981, 6.48772565, 6.45981987, 6.50216344, 6.45302995,\n",
    "         6.48757653],\n",
    "        [6.56212316, 6.50579842, 6.57980424, 6.53720981, 6.52831717,\n",
    "         6.53215203, 6.6013068 , 6.61458317, 6.65267685, 6.53343523,\n",
    "         6.57648059, 6.57538546, 6.53680792, 6.59101802, 6.54516906,\n",
    "         6.55360559],\n",
    "        [6.59707318, 6.560124  , 6.63207077, 6.56917875, 6.57270892,\n",
    "         6.54337438, 6.62433715, 6.65717027, 6.66203563, 6.57954576,\n",
    "         6.63089837, 6.60461378, 6.58115744, 6.63426303, 6.56957759,\n",
    "         6.59899258],\n",
    "        [6.49659125, 6.43439331, 6.4999342 , 6.46736836, 6.44875712,\n",
    "         6.43489189, 6.52372607, 6.52350045, 6.54296292, 6.47600686,\n",
    "         6.51008817, 6.48481272, 6.4566679 , 6.50746173, 6.47046902,\n",
    "         6.47752338],\n",
    "        [6.69961505, 6.67317818, 6.71782148, 6.65155592, 6.65334198,\n",
    "         6.65346053, 6.73885206, 6.75110562, 6.76308591, 6.69282498,\n",
    "         6.73478392, 6.68531822, 6.67412713, 6.72103284, 6.68592002,\n",
    "         6.69674136]]),\n",
    "b2 = ([[13.4272847 ],\n",
    "        [13.37325801],\n",
    "        [13.25831867],\n",
    "        [13.08386143],\n",
    "        [13.55387874],\n",
    "        [13.42766046],\n",
    "        [13.44416516],\n",
    "        [13.34020303],\n",
    "        [13.11546747],\n",
    "        [13.28039017],\n",
    "        [13.14261719],\n",
    "        [13.03119072],\n",
    "        [13.18298322],\n",
    "        [13.25486984],\n",
    "        [13.02661523],\n",
    "        [13.44484269]]),\n",
    "W3 = ([[61.90473133, 61.64751135, 61.68560627, 61.35845408, 61.6010327 ,\n",
    "         61.65010798, 61.86008588, 61.69520013, 61.96461919, 61.64887286,\n",
    "         61.60688798, 62.11241205, 61.45848221, 61.66524446, 61.16640298,\n",
    "         61.65565649]]),\n",
    "b3 = ([[72.02695226]])\n",
    "\n",
    "\n",
    "parameters = {\"W1\": W1,\n",
    "                  \"b1\": b1,\n",
    "                  \"W2\": W2,\n",
    "                  \"b2\": b2,\n",
    "                  \"W3\": W3,\n",
    "                  \"b3\": b3}\n"
   ]
  },
  {
   "cell_type": "code",
   "execution_count": 17,
   "metadata": {},
   "outputs": [
    {
     "data": {
      "text/plain": [
       "{'W1': ([[0.160009497, 0.0664696399, -0.0187843408, 0.192059372, 0.0850051032],\n",
       "   [0.179051089, 0.0815501787, -0.00954603303, 0.190076889, 0.10841331],\n",
       "   [0.245909671, 0.121017207, 0.0040938146, 0.246173818, 0.156047367],\n",
       "   [0.192671388, 0.0809103437, 0.0147542975, 0.20513155, 0.124572721],\n",
       "   [0.377152459, 0.156015684, 0.00846457882, 0.403191377, 0.238485021],\n",
       "   [0.272916668, 0.106041871, -0.00762673412, 0.280461122, 0.170991527],\n",
       "   [0.340457446, 0.162356566, -0.0190216094, 0.368395678, 0.218749441],\n",
       "   [0.271725587, 0.110420488, -0.00446493288, 0.276329449, 0.167212353],\n",
       "   [0.18040972, 0.082627092, -0.0158149504, 0.213700976, 0.129658121],\n",
       "   [0.257873679, 0.112757215, 0.00447646278, 0.271325225, 0.164590388],\n",
       "   [0.236977283, 0.0888917985, -0.000270769739, 0.242227006, 0.146593321],\n",
       "   [0.156500799, 0.0523707978, 0.00726880131, 0.156019421, 0.0715663003],\n",
       "   [0.224646949, 0.0921155756, 0.00310786887, 0.248170903, 0.123071607],\n",
       "   [0.331360256, 0.128359023, -0.00928588859, 0.359400923, 0.214718667],\n",
       "   [0.0980294986, 0.0510837139, -0.00220348907, 0.112552447, 0.054562089],\n",
       "   [0.0463643132,\n",
       "    -0.0140325359,\n",
       "    -0.00044388682,\n",
       "    0.0396465646,\n",
       "    -0.00111567976]],),\n",
       " 'b1': ([[0.22113418],\n",
       "   [0.25249478],\n",
       "   [0.32384776],\n",
       "   [0.2675531],\n",
       "   [0.51984282],\n",
       "   [0.37080625],\n",
       "   [0.46222872],\n",
       "   [0.3477738],\n",
       "   [0.24723096],\n",
       "   [0.3518793],\n",
       "   [0.30578872],\n",
       "   [0.19364596],\n",
       "   [0.30824388],\n",
       "   [0.44574575],\n",
       "   [0.14081686],\n",
       "   [0.04117506]],),\n",
       " 'W2': ([[6.6926798,\n",
       "    6.63222412,\n",
       "    6.71617695,\n",
       "    6.67436171,\n",
       "    6.63465438,\n",
       "    6.62550006,\n",
       "    6.72990606,\n",
       "    6.75295247,\n",
       "    6.75615622,\n",
       "    6.67355648,\n",
       "    6.72270562,\n",
       "    6.70016278,\n",
       "    6.66000409,\n",
       "    6.7285955,\n",
       "    6.64880976,\n",
       "    6.70208951],\n",
       "   [6.67142225,\n",
       "    6.60413812,\n",
       "    6.69266318,\n",
       "    6.61175077,\n",
       "    6.6235492,\n",
       "    6.61643673,\n",
       "    6.67795337,\n",
       "    6.7180069,\n",
       "    6.73052658,\n",
       "    6.66899399,\n",
       "    6.710162,\n",
       "    6.67197387,\n",
       "    6.6240078,\n",
       "    6.68174036,\n",
       "    6.63606893,\n",
       "    6.65920263],\n",
       "   [6.60132975,\n",
       "    6.54363332,\n",
       "    6.62078983,\n",
       "    6.57293333,\n",
       "    6.54817664,\n",
       "    6.54649453,\n",
       "    6.65718559,\n",
       "    6.64129921,\n",
       "    6.66550282,\n",
       "    6.59043431,\n",
       "    6.63112359,\n",
       "    6.61450013,\n",
       "    6.58215316,\n",
       "    6.64266517,\n",
       "    6.58974653,\n",
       "    6.59759855],\n",
       "   [6.53439857,\n",
       "    6.44574653,\n",
       "    6.5352468,\n",
       "    6.48656654,\n",
       "    6.45831093,\n",
       "    6.47538989,\n",
       "    6.54266786,\n",
       "    6.57857322,\n",
       "    6.57306441,\n",
       "    6.50789792,\n",
       "    6.55201732,\n",
       "    6.5245553,\n",
       "    6.47353499,\n",
       "    6.54032921,\n",
       "    6.48021383,\n",
       "    6.49979911],\n",
       "   [6.7903774,\n",
       "    6.70520511,\n",
       "    6.78906782,\n",
       "    6.7204564,\n",
       "    6.70821216,\n",
       "    6.70884975,\n",
       "    6.78559175,\n",
       "    6.80440266,\n",
       "    6.82222574,\n",
       "    6.71230993,\n",
       "    6.78832889,\n",
       "    6.76185502,\n",
       "    6.73188432,\n",
       "    6.77514821,\n",
       "    6.74634102,\n",
       "    6.75034199],\n",
       "   [6.68223629,\n",
       "    6.64252995,\n",
       "    6.7034723,\n",
       "    6.64959885,\n",
       "    6.64011127,\n",
       "    6.64702947,\n",
       "    6.71886895,\n",
       "    6.74595983,\n",
       "    6.80191206,\n",
       "    6.67843041,\n",
       "    6.73435813,\n",
       "    6.67490595,\n",
       "    6.66179347,\n",
       "    6.72247959,\n",
       "    6.66268354,\n",
       "    6.68316719],\n",
       "   [6.70693731,\n",
       "    6.63819559,\n",
       "    6.71046835,\n",
       "    6.68175363,\n",
       "    6.66034205,\n",
       "    6.65066668,\n",
       "    6.72019008,\n",
       "    6.75441343,\n",
       "    6.77753076,\n",
       "    6.68473058,\n",
       "    6.71285608,\n",
       "    6.69956341,\n",
       "    6.66991874,\n",
       "    6.72921666,\n",
       "    6.68409434,\n",
       "    6.70768624],\n",
       "   [6.63984103,\n",
       "    6.58292208,\n",
       "    6.65227332,\n",
       "    6.63670404,\n",
       "    6.59742496,\n",
       "    6.6017585,\n",
       "    6.68301559,\n",
       "    6.69381433,\n",
       "    6.70544011,\n",
       "    6.62254746,\n",
       "    6.67384694,\n",
       "    6.66606885,\n",
       "    6.62345772,\n",
       "    6.66018817,\n",
       "    6.62952284,\n",
       "    6.65564086],\n",
       "   [6.52852605,\n",
       "    6.47787954,\n",
       "    6.53373211,\n",
       "    6.51050031,\n",
       "    6.48136581,\n",
       "    6.47166365,\n",
       "    6.55334663,\n",
       "    6.5866617,\n",
       "    6.59824823,\n",
       "    6.51814883,\n",
       "    6.56837713,\n",
       "    6.53067463,\n",
       "    6.50023991,\n",
       "    6.58001904,\n",
       "    6.51254531,\n",
       "    6.5278709],\n",
       "   [6.62193113,\n",
       "    6.54708246,\n",
       "    6.64586237,\n",
       "    6.59272985,\n",
       "    6.57687888,\n",
       "    6.57566278,\n",
       "    6.64668965,\n",
       "    6.67679229,\n",
       "    6.68870872,\n",
       "    6.59048549,\n",
       "    6.63519003,\n",
       "    6.61681083,\n",
       "    6.56015141,\n",
       "    6.65931981,\n",
       "    6.57611757,\n",
       "    6.61774161],\n",
       "   [6.53950307,\n",
       "    6.47217515,\n",
       "    6.56492164,\n",
       "    6.51764371,\n",
       "    6.49634411,\n",
       "    6.50401792,\n",
       "    6.56772051,\n",
       "    6.6016776,\n",
       "    6.62254614,\n",
       "    6.52531012,\n",
       "    6.5736269,\n",
       "    6.55795673,\n",
       "    6.51738547,\n",
       "    6.57380448,\n",
       "    6.501137,\n",
       "    6.55042755],\n",
       "   [6.50084529,\n",
       "    6.43598041,\n",
       "    6.51342689,\n",
       "    6.48437492,\n",
       "    6.44369629,\n",
       "    6.45008496,\n",
       "    6.50967902,\n",
       "    6.53346214,\n",
       "    6.55654245,\n",
       "    6.4631329,\n",
       "    6.52061981,\n",
       "    6.48772565,\n",
       "    6.45981987,\n",
       "    6.50216344,\n",
       "    6.45302995,\n",
       "    6.48757653],\n",
       "   [6.56212316,\n",
       "    6.50579842,\n",
       "    6.57980424,\n",
       "    6.53720981,\n",
       "    6.52831717,\n",
       "    6.53215203,\n",
       "    6.6013068,\n",
       "    6.61458317,\n",
       "    6.65267685,\n",
       "    6.53343523,\n",
       "    6.57648059,\n",
       "    6.57538546,\n",
       "    6.53680792,\n",
       "    6.59101802,\n",
       "    6.54516906,\n",
       "    6.55360559],\n",
       "   [6.59707318,\n",
       "    6.560124,\n",
       "    6.63207077,\n",
       "    6.56917875,\n",
       "    6.57270892,\n",
       "    6.54337438,\n",
       "    6.62433715,\n",
       "    6.65717027,\n",
       "    6.66203563,\n",
       "    6.57954576,\n",
       "    6.63089837,\n",
       "    6.60461378,\n",
       "    6.58115744,\n",
       "    6.63426303,\n",
       "    6.56957759,\n",
       "    6.59899258],\n",
       "   [6.49659125,\n",
       "    6.43439331,\n",
       "    6.4999342,\n",
       "    6.46736836,\n",
       "    6.44875712,\n",
       "    6.43489189,\n",
       "    6.52372607,\n",
       "    6.52350045,\n",
       "    6.54296292,\n",
       "    6.47600686,\n",
       "    6.51008817,\n",
       "    6.48481272,\n",
       "    6.4566679,\n",
       "    6.50746173,\n",
       "    6.47046902,\n",
       "    6.47752338],\n",
       "   [6.69961505,\n",
       "    6.67317818,\n",
       "    6.71782148,\n",
       "    6.65155592,\n",
       "    6.65334198,\n",
       "    6.65346053,\n",
       "    6.73885206,\n",
       "    6.75110562,\n",
       "    6.76308591,\n",
       "    6.69282498,\n",
       "    6.73478392,\n",
       "    6.68531822,\n",
       "    6.67412713,\n",
       "    6.72103284,\n",
       "    6.68592002,\n",
       "    6.69674136]],),\n",
       " 'b2': ([[13.4272847],\n",
       "   [13.37325801],\n",
       "   [13.25831867],\n",
       "   [13.08386143],\n",
       "   [13.55387874],\n",
       "   [13.42766046],\n",
       "   [13.44416516],\n",
       "   [13.34020303],\n",
       "   [13.11546747],\n",
       "   [13.28039017],\n",
       "   [13.14261719],\n",
       "   [13.03119072],\n",
       "   [13.18298322],\n",
       "   [13.25486984],\n",
       "   [13.02661523],\n",
       "   [13.44484269]],),\n",
       " 'W3': ([[61.90473133,\n",
       "    61.64751135,\n",
       "    61.68560627,\n",
       "    61.35845408,\n",
       "    61.6010327,\n",
       "    61.65010798,\n",
       "    61.86008588,\n",
       "    61.69520013,\n",
       "    61.96461919,\n",
       "    61.64887286,\n",
       "    61.60688798,\n",
       "    62.11241205,\n",
       "    61.45848221,\n",
       "    61.66524446,\n",
       "    61.16640298,\n",
       "    61.65565649]],),\n",
       " 'b3': [[72.02695226]]}"
      ]
     },
     "execution_count": 17,
     "metadata": {},
     "output_type": "execute_result"
    }
   ],
   "source": [
    "parameters"
   ]
  },
  {
   "cell_type": "markdown",
   "metadata": {},
   "source": [
    "### TAKING INPUT FROM THE USER"
   ]
  },
  {
   "cell_type": "code",
   "execution_count": 18,
   "metadata": {},
   "outputs": [],
   "source": [
    "def Date_Code(year,month,day):\n",
    "    import datetime\n",
    "    date = datetime.date(2020, 1, 23)\n",
    "    date1 = datetime.date(year,month,day)\n",
    "    date_code = (date1 - date)\n",
    "    dayss = date_code.days\n",
    "    print ('Date_code is:'  ,dayss)\n",
    "    return dayss"
   ]
  },
  {
   "cell_type": "code",
   "execution_count": 19,
   "metadata": {},
   "outputs": [
    {
     "name": "stdout",
     "output_type": "stream",
     "text": [
      "Enter a year: 2020\n",
      "Enter a month: 12\n",
      "Enter a day: 5\n",
      "Date_code is: 317\n"
     ]
    },
    {
     "data": {
      "text/plain": [
       "0.9937304075235109"
      ]
     },
     "execution_count": 19,
     "metadata": {},
     "output_type": "execute_result"
    }
   ],
   "source": [
    "year = int(input('Enter a year: '))\n",
    "month = int(input('Enter a month: '))\n",
    "day = int(input('Enter a day: '))\n",
    "d = Date_Code(year,month,day)\n",
    "d = d/X['DATE_CODE'].max()\n",
    "d"
   ]
  },
  {
   "cell_type": "code",
   "execution_count": 20,
   "metadata": {},
   "outputs": [
    {
     "name": "stdout",
     "output_type": "stream",
     "text": [
      "Enter value of Temperature: 5\n"
     ]
    },
    {
     "data": {
      "text/plain": [
       "0.09615384615384616"
      ]
     },
     "execution_count": 20,
     "metadata": {},
     "output_type": "execute_result"
    }
   ],
   "source": [
    "t = float(input('Enter value of Temperature: '))\n",
    "t = t/X['TEMPERATURES'].max()\n",
    "t"
   ]
  },
  {
   "cell_type": "code",
   "execution_count": 21,
   "metadata": {},
   "outputs": [
    {
     "name": "stdout",
     "output_type": "stream",
     "text": [
      "Enter state Code: 85\n"
     ]
    },
    {
     "data": {
      "text/plain": [
       "0.5"
      ]
     },
     "execution_count": 21,
     "metadata": {},
     "output_type": "execute_result"
    }
   ],
   "source": [
    "s = float(input('Enter state Code: '))\n",
    "s = s/X['COUNTRY_CODE'].max()\n",
    "s"
   ]
  },
  {
   "cell_type": "code",
   "execution_count": 22,
   "metadata": {},
   "outputs": [
    {
     "name": "stdout",
     "output_type": "stream",
     "text": [
      "Enter population Density: 500\n"
     ]
    },
    {
     "data": {
      "text/plain": [
       "0.02584313218762114"
      ]
     },
     "execution_count": 22,
     "metadata": {},
     "output_type": "execute_result"
    }
   ],
   "source": [
    "p = float(input('Enter population Density: '))\n",
    "p = p/X['POPULATION DENSITY'].max()\n",
    "p"
   ]
  },
  {
   "cell_type": "code",
   "execution_count": 23,
   "metadata": {},
   "outputs": [
    {
     "name": "stdout",
     "output_type": "stream",
     "text": [
      "Enter value of Human Devlopment Index: 522\n"
     ]
    },
    {
     "data": {
      "text/plain": [
       "547.7439664218258"
      ]
     },
     "execution_count": 23,
     "metadata": {},
     "output_type": "execute_result"
    }
   ],
   "source": [
    "hdi = float(input('Enter value of Human Devlopment Index: '))\n",
    "hdi = hdi/X['HUMAN_DEVELOPMENT_INDEX'].max()\n",
    "hdi"
   ]
  },
  {
   "cell_type": "code",
   "execution_count": 29,
   "metadata": {},
   "outputs": [],
   "source": [
    "x_a = np.array([d,s,p,hdi,t])\n",
    "x_a = x_a.T"
   ]
  },
  {
   "cell_type": "code",
   "execution_count": 30,
   "metadata": {},
   "outputs": [],
   "source": [
    "def sigmoid(z):   #Defining Sigmoid funcion\n",
    "        return 1.0/(1.0+np.exp(-z))"
   ]
  },
  {
   "cell_type": "markdown",
   "metadata": {},
   "source": [
    "### PREDICTION CODE"
   ]
  },
  {
   "cell_type": "code",
   "execution_count": 31,
   "metadata": {},
   "outputs": [],
   "source": [
    "def prediction(train_x, parameters):\n",
    "    # train_x = input data of size (n_x, m)\n",
    "    # Retrieve each parameter from the dictionary \"parameters\"\n",
    "    W1 = parameters[\"W1\"]\n",
    "    b1 = parameters[\"b1\"]\n",
    "    W2 = parameters[\"W2\"]\n",
    "    b2 = parameters[\"b2\"]\n",
    "    W3 = parameters[\"W3\"]\n",
    "    b3 = parameters[\"b3\"]\n",
    "    \n",
    "    \n",
    "    \n",
    "    Z1 = np.dot(W1,train_x) + b1\n",
    "    A1 = sigmoid(Z1)\n",
    "    Z2 = np.dot(W2,A1) + b2\n",
    "    A2 = sigmoid(Z2)\n",
    "    Z3=  np.dot(W3,A2) + b3\n",
    "    A3=  Z3\n",
    "    \n",
    "   # assert(A3.shape == (1, train_x.shape[1]))\n",
    "    \n",
    "    cache = {\"Z1\": Z1,\n",
    "             \"A1\": A1,\n",
    "             \"Z2\": Z2,\n",
    "             \"A2\": A2,\n",
    "             \"Z3\": Z3,\n",
    "             \"A3\": A3\n",
    "            }\n",
    "    \n",
    "    return A3, cache"
   ]
  },
  {
   "cell_type": "code",
   "execution_count": 32,
   "metadata": {},
   "outputs": [],
   "source": [
    "y_hatt, cache = prediction(x_a, parameters)"
   ]
  },
  {
   "cell_type": "code",
   "execution_count": 35,
   "metadata": {},
   "outputs": [
    {
     "name": "stdout",
     "output_type": "stream",
     "text": [
      "The Estimated count of Covid Cases is:    1058.7082602000005\n"
     ]
    }
   ],
   "source": [
    "print (\"The Estimated count of Covid Cases is:   \" , y_hatt.mean())"
   ]
  },
  {
   "cell_type": "markdown",
   "metadata": {},
   "source": [
    "### ERROR FROM ACTUAL CASES (IF AVAILABLE)"
   ]
  },
  {
   "cell_type": "code",
   "execution_count": null,
   "metadata": {},
   "outputs": [],
   "source": [
    "### INPUT ACTUAL CASES IF AVAILABLE\n",
    "actual_y = float(input('Enter value of Actual Cases: '))\n",
    "actual_y"
   ]
  },
  {
   "cell_type": "code",
   "execution_count": null,
   "metadata": {},
   "outputs": [],
   "source": [
    "### ERROR ON ACTUAL CASES vs PREDICTED CASES\n",
    "def RMSE(y_hatt, actual_y):\n",
    "    return np.sqrt((y_hatt - actual_y) ** 2).mean()\n",
    "rmse_val = RMSE(np.array(y_hatt), np.array(actual_y))\n",
    "print(f\" Rms error is:  {rmse_val}\")"
   ]
  },
  {
   "cell_type": "code",
   "execution_count": null,
   "metadata": {},
   "outputs": [],
   "source": [
    "def MSE(y_hatt, actual_y):\n",
    "    return (1/len(x_a))*np.sum((y_hatt - actual_y) ** 2)\n",
    "mse_val = MSE(np.array(y_hatt), np.array(actual_y))\n",
    "print(f\" Mean Square Error is:  {mse_val}\")"
   ]
  },
  {
   "cell_type": "code",
   "execution_count": null,
   "metadata": {},
   "outputs": [],
   "source": []
  }
 ],
 "metadata": {
  "kernelspec": {
   "display_name": "Python 3",
   "language": "python",
   "name": "python3"
  },
  "language_info": {
   "codemirror_mode": {
    "name": "ipython",
    "version": 3
   },
   "file_extension": ".py",
   "mimetype": "text/x-python",
   "name": "python",
   "nbconvert_exporter": "python",
   "pygments_lexer": "ipython3",
   "version": "3.8.5"
  }
 },
 "nbformat": 4,
 "nbformat_minor": 4
}
